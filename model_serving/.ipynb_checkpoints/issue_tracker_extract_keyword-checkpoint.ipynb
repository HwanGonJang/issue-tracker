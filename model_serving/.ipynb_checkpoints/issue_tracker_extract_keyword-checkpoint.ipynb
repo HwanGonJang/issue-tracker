{
 "cells": [
  {
   "cell_type": "markdown",
   "id": "bc8bf882-4d37-4029-bc41-210a2e18f512",
   "metadata": {},
   "source": [
    "## 이슈트래커 키워드 추출하기"
   ]
  },
  {
   "cell_type": "code",
   "execution_count": 3,
   "id": "002b1e74-06ba-42a2-b8cc-c7668ccec4c3",
   "metadata": {},
   "outputs": [],
   "source": [
    "import os\n",
    "from dotenv import load_dotenv\n",
    "\n",
    "load_dotenv()\n",
    "project_id = os.environ.get('GOOGLE_CLOUD_PROJECT_ID')"
   ]
  },
  {
   "cell_type": "code",
   "execution_count": 4,
   "id": "dba1297d-963f-4a65-9d2c-2be5e996a862",
   "metadata": {},
   "outputs": [
    {
     "name": "stderr",
     "output_type": "stream",
     "text": [
      "23/08/12 10:59:41 WARN Utils: Your hostname, HwangonJang-MacBookPro.local resolves to a loopback address: 127.0.0.1; using 172.30.1.29 instead (on interface en0)\n",
      "23/08/12 10:59:41 WARN Utils: Set SPARK_LOCAL_IP if you need to bind to another address\n",
      "23/08/12 10:59:42 WARN NativeCodeLoader: Unable to load native-hadoop library for your platform... using builtin-java classes where applicable\n",
      "Setting default log level to \"WARN\".\n",
      "To adjust logging level use sc.setLogLevel(newLevel). For SparkR, use setLogLevel(newLevel).\n"
     ]
    }
   ],
   "source": [
    "# 스파크 설정\n",
    "from pyspark.sql import SparkSession\n",
    "from pyspark.sql.functions import to_timestamp, udf\n",
    "\n",
    "spark = SparkSession.builder\\\n",
    "  .appName('issue-tracker')\\\n",
    "  .config('spark.jars', '../spark-3.3-bigquery-0.32.0.jar')\\\n",
    "  .getOrCreate()"
   ]
  },
  {
   "cell_type": "code",
   "execution_count": 12,
   "id": "977763f2-8b03-4ac2-a23f-db714e332b89",
   "metadata": {},
   "outputs": [
    {
     "name": "stderr",
     "output_type": "stream",
     "text": [
      "23/08/12 11:04:36 WARN SimpleFunctionRegistry: The function datetime_to_string replaced a previously registered function.\n"
     ]
    },
    {
     "data": {
      "text/plain": [
       "<function __main__.datetime_to_string_minus(min)>"
      ]
     },
     "execution_count": 12,
     "metadata": {},
     "output_type": "execute_result"
    }
   ],
   "source": [
    "# timestamp udf 설정\n",
    "from datetime import datetime, timedelta\n",
    "\n",
    "@udf('string')\n",
    "def datetime_to_string(dt):\n",
    "  dt -= timedelta(hours=9)\n",
    "  return dt.strftime('%Y-%m-%d %H:%M:%S')\n",
    "\n",
    "@udf('string')\n",
    "def datetime_to_string_minus(min):\n",
    "  dt = datetime.now()\n",
    "  dt -= timedelta(minutes=min)\n",
    "  return dt.strftime('%Y-%m-%d %H:%M:%S')\n",
    "\n",
    "spark.udf.register(\"datetime_to_string\", datetime_to_string)\n",
    "spark.udf.register(\"datetime_to_string_minus\", datetime_to_string_minus)"
   ]
  },
  {
   "cell_type": "code",
   "execution_count": 6,
   "id": "a7e1bec6-67b1-497d-b1f7-e23461714099",
   "metadata": {},
   "outputs": [],
   "source": [
    "# 데이터 조회\n",
    "df = spark.read \\\n",
    "  .format('bigquery') \\\n",
    "  .load(f'{project_id}.news.news')\n",
    "\n",
    "df.createOrReplaceTempView(\"news\")"
   ]
  },
  {
   "cell_type": "code",
   "execution_count": 7,
   "id": "21dc4371-77c1-4150-9e00-55e45761492f",
   "metadata": {},
   "outputs": [],
   "source": [
    "# 시간 truncate by 10 minutes\n",
    "def truncate_seconds(dt, interval_minutes):\n",
    "    truncated_minutes = int(dt.minute / interval_minutes) * interval_minutes\n",
    "    return dt.replace(minute=truncated_minutes, second=0, microsecond=0)\n",
    "\n",
    "interval_minutes = 10  # 잘라낼 분 단위"
   ]
  },
  {
   "cell_type": "code",
   "execution_count": 32,
   "id": "0fa929de-8352-4987-8b98-d90d3f17d624",
   "metadata": {},
   "outputs": [],
   "source": [
    "# 하루 동안의 뉴스 수집\n",
    "query = \"\"\"\n",
    "SELECT\n",
    "    id,\n",
    "    title,\n",
    "    to_timestamp(datetime_to_string(article_written_at)) as article_written_at,\n",
    "    to_timestamp(datetime_to_string(scraped_at)) as scraped_at,\n",
    "    category\n",
    "FROM\n",
    "    news\n",
    "WHERE\n",
    "    to_timestamp(datetime_to_string(article_written_at)) >= to_timestamp(datetime_to_string_minus(60 * 24))\n",
    "    AND to_timestamp(datetime_to_string(article_written_at)) < to_timestamp(datetime_to_string_minus(0))\n",
    "\"\"\"\n",
    "\n",
    "# 스파크 SQL query 실행\n",
    "issue_df = spark.sql(query)"
   ]
  },
  {
   "cell_type": "code",
   "execution_count": 33,
   "id": "be0dca1f-f9dc-4a91-b6a1-41e4614ea883",
   "metadata": {},
   "outputs": [
    {
     "name": "stderr",
     "output_type": "stream",
     "text": [
      "[Stage 10:>                                                         (0 + 1) / 1]\r"
     ]
    },
    {
     "name": "stdout",
     "output_type": "stream",
     "text": [
      "+----------+---------------------------------+-------------------+-------------------+--------+\n",
      "|        id|                            title| article_written_at|         scraped_at|category|\n",
      "+----------+---------------------------------+-------------------+-------------------+--------+\n",
      "|0000613995|   [날씨] 주말 전국 가끔 비…동...|2023-08-12 10:51:01|2023-08-12 11:00:00|    과학|\n",
      "|0000037844|    치매까지?... '코골이'가 유...|2023-08-12 10:25:01|2023-08-12 10:30:00|    과학|\n",
      "|0000018679|      '벤츠 잡은' 렉서스 ES300...|2023-08-12 10:31:01|2023-08-12 10:40:00|    과학|\n",
      "|0004924612|  \"여권도 타버린 듯\" 하와이 덮...|2023-08-12 10:22:12|2023-08-12 10:30:00|    사회|\n",
      "|0002182713|   “결혼할 사이잖아, 돈 줘” 부...|2023-08-12 10:32:03|2023-08-12 10:40:00|    사회|\n",
      "|0000754778|탯줄 달린 신생아 종이봉투에 넣...|2023-08-12 10:49:01|2023-08-12 10:50:00|    사회|\n",
      "|0003781294|수상한 걸음걸이 본 베테랑 경찰...|2023-08-12 10:44:01|2023-08-12 10:50:00|    사회|\n",
      "|0012027923| 여당, 이재명 '안면인식장애'에...|2023-08-12 10:36:10|2023-08-12 10:40:00|    정치|\n",
      "|0002402424|   '전 정부 탓'과 '카르텔 타파...|2023-08-12 10:31:01|2023-08-12 10:40:00|    정치|\n",
      "|0003514573|   LH, 철근누락 알고도 발표때 ...|2023-08-12 01:41:21|2023-08-12 01:50:00|    경제|\n",
      "|0005056193|    ‘1억 이상’ 오른 단지도… 서...|2023-08-12 05:01:07|2023-08-12 05:10:00|    경제|\n",
      "|0005056188|   IEA \"세계 석유수요 사상최고...|2023-08-12 04:17:01|2023-08-12 04:20:00|    경제|\n",
      "|0005056189| 미 \"진공청소기로 하늘서 탄소 ...|2023-08-12 04:45:01|2023-08-12 04:50:00|    경제|\n",
      "|0004924563| 버핏은 장기투자만 할까? 그에 ...|2023-08-12 05:41:00|2023-08-12 05:50:00|    경제|\n",
      "|0014127653| 뉴욕증시, 생산자물가 반등 속 ...|2023-08-12 05:56:27|2023-08-12 06:00:00|    경제|\n",
      "|0000923964|     “‘국평 10억’은 이제 기본”...|2023-08-12 06:01:53|2023-08-12 06:10:00|    경제|\n",
      "|0000923956|    ‘내 집 마련’ 수요 늘자… 인...|2023-08-12 06:01:14|2023-08-12 06:10:00|    경제|\n",
      "|0000018675|물가 안정에 안도하는 미국증시…...|2023-08-12 06:01:01|2023-08-12 06:10:00|    경제|\n",
      "|0002182654| “부동산이 계약서 써주고 쉽게 ...|2023-08-12 06:00:01|2023-08-12 06:10:00|    경제|\n",
      "|0002182659|  中 왕서방, 단체로 이곳 ‘망고...|2023-08-12 06:32:01|2023-08-12 06:40:00|    경제|\n",
      "+----------+---------------------------------+-------------------+-------------------+--------+\n",
      "only showing top 20 rows\n",
      "\n"
     ]
    },
    {
     "name": "stderr",
     "output_type": "stream",
     "text": [
      "                                                                                \r"
     ]
    }
   ],
   "source": [
    "# lazy execution - 실제로 값이 필요할 때 계산\n",
    "issue_df.show()"
   ]
  },
  {
   "cell_type": "code",
   "execution_count": 36,
   "id": "3763c89d-504f-4fe7-afe5-8f2ada8899d0",
   "metadata": {},
   "outputs": [],
   "source": [
    "issue_df.createOrReplaceTempView(\"issue_single_day\")\n",
    "\n",
    "# 1시간 동안의 정치 카테고리 뉴스 수집\n",
    "query = \"\"\"\n",
    "SELECT\n",
    "    id,\n",
    "    title,\n",
    "    article_written_at,\n",
    "    scraped_at,\n",
    "    category\n",
    "FROM\n",
    "    issue_single_day\n",
    "WHERE\n",
    "    article_written_at >= to_timestamp(datetime_to_string_minus(60))\n",
    "    AND article_written_at < to_timestamp(datetime_to_string_minus(0))\n",
    "    AND category == '정치'\n",
    "\"\"\"\n",
    "\n",
    "# 스파크 SQL query 실행\n",
    "issue_hour_df = spark.sql(query)"
   ]
  },
  {
   "cell_type": "code",
   "execution_count": 37,
   "id": "ef90ec40-ad09-4c36-9b37-7ad1761c20bb",
   "metadata": {},
   "outputs": [
    {
     "name": "stderr",
     "output_type": "stream",
     "text": [
      "[Stage 12:>                                                         (0 + 1) / 1]\r"
     ]
    },
    {
     "name": "stdout",
     "output_type": "stream",
     "text": [
      "+----------+--------------------------------+-------------------+-------------------+--------+\n",
      "|        id|                           title| article_written_at|         scraped_at|category|\n",
      "+----------+--------------------------------+-------------------+-------------------+--------+\n",
      "|0012027923|여당, 이재명 '안면인식장애'에...|2023-08-12 10:36:10|2023-08-12 10:40:00|    정치|\n",
      "|0002402424|  '전 정부 탓'과 '카르텔 타파...|2023-08-12 10:31:01|2023-08-12 10:40:00|    정치|\n",
      "+----------+--------------------------------+-------------------+-------------------+--------+\n",
      "\n"
     ]
    },
    {
     "name": "stderr",
     "output_type": "stream",
     "text": [
      "                                                                                \r"
     ]
    }
   ],
   "source": [
    "issue_hour_df.show()"
   ]
  },
  {
   "cell_type": "code",
   "execution_count": 41,
   "id": "8c718695-5eb6-4f4e-ba1c-610d07f312bd",
   "metadata": {},
   "outputs": [
    {
     "name": "stderr",
     "output_type": "stream",
     "text": [
      "                                                                                \r"
     ]
    }
   ],
   "source": [
    "# 데이터 전처리\n",
    "import pandas as pd\n",
    "\n",
    "pd_issue_df = issue_df.select('title', 'category').toPandas()\n",
    "pd_issue_hour_df = issue_hour_df.select('title', 'category').toPandas()\n",
    "\n",
    "issues = pd_issue_df.copy()\n",
    "for _ in range(3):\n",
    "    issues = pd.concat([issues, pd_issue_hour_df], ignore_index=True)"
   ]
  },
  {
   "cell_type": "code",
   "execution_count": 42,
   "id": "34cdb91b-6f11-4802-8058-bcc81e284c25",
   "metadata": {},
   "outputs": [
    {
     "data": {
      "text/html": [
       "<div>\n",
       "<style scoped>\n",
       "    .dataframe tbody tr th:only-of-type {\n",
       "        vertical-align: middle;\n",
       "    }\n",
       "\n",
       "    .dataframe tbody tr th {\n",
       "        vertical-align: top;\n",
       "    }\n",
       "\n",
       "    .dataframe thead th {\n",
       "        text-align: right;\n",
       "    }\n",
       "</style>\n",
       "<table border=\"1\" class=\"dataframe\">\n",
       "  <thead>\n",
       "    <tr style=\"text-align: right;\">\n",
       "      <th></th>\n",
       "      <th>title</th>\n",
       "      <th>category</th>\n",
       "    </tr>\n",
       "  </thead>\n",
       "  <tbody>\n",
       "    <tr>\n",
       "      <th>0</th>\n",
       "      <td>\"당근 3개로 피부톤을 바꿔?\"...난리난 '태닝법'의 진짜 효과는?</td>\n",
       "      <td>과학</td>\n",
       "    </tr>\n",
       "    <tr>\n",
       "      <th>1</th>\n",
       "      <td>치매까지?... '코골이'가 유발하는 질병 3</td>\n",
       "      <td>과학</td>\n",
       "    </tr>\n",
       "    <tr>\n",
       "      <th>2</th>\n",
       "      <td>'벤츠 잡은' 렉서스 ES300h, 소리 없이 강했다</td>\n",
       "      <td>과학</td>\n",
       "    </tr>\n",
       "    <tr>\n",
       "      <th>3</th>\n",
       "      <td>\"여권도 타버린 듯\" 하와이 덮친 산불…신혼여행 예약자들도 발동동</td>\n",
       "      <td>사회</td>\n",
       "    </tr>\n",
       "    <tr>\n",
       "      <th>4</th>\n",
       "      <td>“결혼할 사이잖아, 돈 줘” 부자 행세로 7억원 받아챙긴 30대 실형</td>\n",
       "      <td>사회</td>\n",
       "    </tr>\n",
       "  </tbody>\n",
       "</table>\n",
       "</div>"
      ],
      "text/plain": [
       "                                    title category\n",
       "0  \"당근 3개로 피부톤을 바꿔?\"...난리난 '태닝법'의 진짜 효과는?       과학\n",
       "1               치매까지?... '코골이'가 유발하는 질병 3       과학\n",
       "2           '벤츠 잡은' 렉서스 ES300h, 소리 없이 강했다       과학\n",
       "3    \"여권도 타버린 듯\" 하와이 덮친 산불…신혼여행 예약자들도 발동동       사회\n",
       "4  “결혼할 사이잖아, 돈 줘” 부자 행세로 7억원 받아챙긴 30대 실형       사회"
      ]
     },
     "execution_count": 42,
     "metadata": {},
     "output_type": "execute_result"
    }
   ],
   "source": [
    "issues.head(5)"
   ]
  },
  {
   "cell_type": "code",
   "execution_count": 43,
   "id": "4b577613-4e48-494e-be34-59d2ffff6076",
   "metadata": {},
   "outputs": [
    {
     "ename": "FileNotFoundError",
     "evalue": "[Errno 2] JVM DLL not found: /usr/local/opt/liquibase/.install4j/jre.bundle/Contents/Home/lib/libjli.dylib\n",
     "output_type": "error",
     "traceback": [
      "\u001b[0;31m---------------------------------------------------------------------------\u001b[0m",
      "\u001b[0;31mFileNotFoundError\u001b[0m                         Traceback (most recent call last)",
      "Cell \u001b[0;32mIn[43], line 4\u001b[0m\n\u001b[1;32m      1\u001b[0m \u001b[38;5;28;01mfrom\u001b[39;00m \u001b[38;5;21;01mkonlpy\u001b[39;00m\u001b[38;5;21;01m.\u001b[39;00m\u001b[38;5;21;01mtag\u001b[39;00m \u001b[38;5;28;01mimport\u001b[39;00m Okt\n\u001b[1;32m      3\u001b[0m \u001b[38;5;66;03m# Okt 객체 생성\u001b[39;00m\n\u001b[0;32m----> 4\u001b[0m okt \u001b[38;5;241m=\u001b[39m \u001b[43mOkt\u001b[49m\u001b[43m(\u001b[49m\u001b[43m)\u001b[49m\n\u001b[1;32m      6\u001b[0m \u001b[38;5;28;01mdef\u001b[39;00m \u001b[38;5;21mremove_bracket_text\u001b[39m(title):\n\u001b[1;32m      7\u001b[0m     \u001b[38;5;28;01mreturn\u001b[39;00m re\u001b[38;5;241m.\u001b[39msub(\u001b[38;5;124mr\u001b[39m\u001b[38;5;124m'\u001b[39m\u001b[38;5;124m\\\u001b[39m\u001b[38;5;124m[.*?\u001b[39m\u001b[38;5;124m\\\u001b[39m\u001b[38;5;124m]\u001b[39m\u001b[38;5;124m'\u001b[39m, \u001b[38;5;124m'\u001b[39m\u001b[38;5;124m'\u001b[39m, title)\n",
      "File \u001b[0;32m~/anaconda3/envs/issue-tracker/lib/python3.10/site-packages/konlpy/tag/_okt.py:51\u001b[0m, in \u001b[0;36mOkt.__init__\u001b[0;34m(self, jvmpath, max_heap_size)\u001b[0m\n\u001b[1;32m     49\u001b[0m \u001b[38;5;28;01mdef\u001b[39;00m \u001b[38;5;21m__init__\u001b[39m(\u001b[38;5;28mself\u001b[39m, jvmpath\u001b[38;5;241m=\u001b[39m\u001b[38;5;28;01mNone\u001b[39;00m, max_heap_size\u001b[38;5;241m=\u001b[39m\u001b[38;5;241m1024\u001b[39m):\n\u001b[1;32m     50\u001b[0m     \u001b[38;5;28;01mif\u001b[39;00m \u001b[38;5;129;01mnot\u001b[39;00m jpype\u001b[38;5;241m.\u001b[39misJVMStarted():\n\u001b[0;32m---> 51\u001b[0m         \u001b[43mjvm\u001b[49m\u001b[38;5;241;43m.\u001b[39;49m\u001b[43minit_jvm\u001b[49m\u001b[43m(\u001b[49m\u001b[43mjvmpath\u001b[49m\u001b[43m,\u001b[49m\u001b[43m \u001b[49m\u001b[43mmax_heap_size\u001b[49m\u001b[43m)\u001b[49m\n\u001b[1;32m     53\u001b[0m     oktJavaPackage \u001b[38;5;241m=\u001b[39m jpype\u001b[38;5;241m.\u001b[39mJPackage(\u001b[38;5;124m'\u001b[39m\u001b[38;5;124mkr.lucypark.okt\u001b[39m\u001b[38;5;124m'\u001b[39m)\n\u001b[1;32m     54\u001b[0m     OktInterfaceJavaClass \u001b[38;5;241m=\u001b[39m oktJavaPackage\u001b[38;5;241m.\u001b[39mOktInterface\n",
      "File \u001b[0;32m~/anaconda3/envs/issue-tracker/lib/python3.10/site-packages/konlpy/jvm.py:64\u001b[0m, in \u001b[0;36minit_jvm\u001b[0;34m(jvmpath, max_heap_size)\u001b[0m\n\u001b[1;32m     61\u001b[0m     jvmpath \u001b[38;5;241m=\u001b[39m \u001b[38;5;124m'\u001b[39m\u001b[38;5;132;01m%s\u001b[39;00m\u001b[38;5;124m/lib/jli/libjli.dylib\u001b[39m\u001b[38;5;124m'\u001b[39m \u001b[38;5;241m%\u001b[39m jvmpath\u001b[38;5;241m.\u001b[39msplit(\u001b[38;5;124m'\u001b[39m\u001b[38;5;124m/lib/\u001b[39m\u001b[38;5;124m'\u001b[39m)[\u001b[38;5;241m0\u001b[39m]\n\u001b[1;32m     63\u001b[0m \u001b[38;5;28;01mif\u001b[39;00m jvmpath:\n\u001b[0;32m---> 64\u001b[0m     \u001b[43mjpype\u001b[49m\u001b[38;5;241;43m.\u001b[39;49m\u001b[43mstartJVM\u001b[49m\u001b[43m(\u001b[49m\u001b[43mjvmpath\u001b[49m\u001b[43m,\u001b[49m\u001b[43m \u001b[49m\u001b[38;5;124;43m'\u001b[39;49m\u001b[38;5;124;43m-Dfile.encoding=UTF8\u001b[39;49m\u001b[38;5;124;43m'\u001b[39;49m\u001b[43m,\u001b[49m\n\u001b[1;32m     65\u001b[0m \u001b[43m                            \u001b[49m\u001b[38;5;124;43m'\u001b[39;49m\u001b[38;5;124;43m-ea\u001b[39;49m\u001b[38;5;124;43m'\u001b[39;49m\u001b[43m,\u001b[49m\u001b[43m \u001b[49m\u001b[38;5;124;43m'\u001b[39;49m\u001b[38;5;124;43m-Xmx\u001b[39;49m\u001b[38;5;132;43;01m{}\u001b[39;49;00m\u001b[38;5;124;43mm\u001b[39;49m\u001b[38;5;124;43m'\u001b[39;49m\u001b[38;5;241;43m.\u001b[39;49m\u001b[43mformat\u001b[49m\u001b[43m(\u001b[49m\u001b[43mmax_heap_size\u001b[49m\u001b[43m)\u001b[49m\u001b[43m,\u001b[49m\n\u001b[1;32m     66\u001b[0m \u001b[43m                            \u001b[49m\u001b[43mclasspath\u001b[49m\u001b[38;5;241;43m=\u001b[39;49m\u001b[43mclasspath\u001b[49m\u001b[43m,\u001b[49m\n\u001b[1;32m     67\u001b[0m \u001b[43m                            \u001b[49m\u001b[43mconvertStrings\u001b[49m\u001b[38;5;241;43m=\u001b[39;49m\u001b[38;5;28;43;01mTrue\u001b[39;49;00m\u001b[43m)\u001b[49m\n\u001b[1;32m     68\u001b[0m \u001b[38;5;28;01melse\u001b[39;00m:\n\u001b[1;32m     69\u001b[0m     \u001b[38;5;28;01mraise\u001b[39;00m \u001b[38;5;167;01mValueError\u001b[39;00m(\u001b[38;5;124m\"\u001b[39m\u001b[38;5;124mPlease specify the JVM path.\u001b[39m\u001b[38;5;124m\"\u001b[39m)\n",
      "File \u001b[0;32m~/anaconda3/envs/issue-tracker/lib/python3.10/site-packages/jpype/_core.py:224\u001b[0m, in \u001b[0;36mstartJVM\u001b[0;34m(*args, **kwargs)\u001b[0m\n\u001b[1;32m    222\u001b[0m prior \u001b[38;5;241m=\u001b[39m [locale\u001b[38;5;241m.\u001b[39mgetlocale(i) \u001b[38;5;28;01mfor\u001b[39;00m i \u001b[38;5;129;01min\u001b[39;00m categories]\n\u001b[1;32m    223\u001b[0m \u001b[38;5;66;03m# Start the JVM\u001b[39;00m\n\u001b[0;32m--> 224\u001b[0m \u001b[43m_jpype\u001b[49m\u001b[38;5;241;43m.\u001b[39;49m\u001b[43mstartup\u001b[49m\u001b[43m(\u001b[49m\u001b[43mjvmpath\u001b[49m\u001b[43m,\u001b[49m\u001b[43m \u001b[49m\u001b[38;5;28;43mtuple\u001b[39;49m\u001b[43m(\u001b[49m\u001b[43margs\u001b[49m\u001b[43m)\u001b[49m\u001b[43m,\u001b[49m\n\u001b[1;32m    225\u001b[0m \u001b[43m               \u001b[49m\u001b[43mignoreUnrecognized\u001b[49m\u001b[43m,\u001b[49m\u001b[43m \u001b[49m\u001b[43mconvertStrings\u001b[49m\u001b[43m,\u001b[49m\u001b[43m \u001b[49m\u001b[43minterrupt\u001b[49m\u001b[43m)\u001b[49m\n\u001b[1;32m    226\u001b[0m \u001b[38;5;66;03m# Collect required resources for operation\u001b[39;00m\n\u001b[1;32m    227\u001b[0m initializeResources()\n",
      "\u001b[0;31mFileNotFoundError\u001b[0m: [Errno 2] JVM DLL not found: /usr/local/opt/liquibase/.install4j/jre.bundle/Contents/Home/lib/libjli.dylib\n"
     ]
    }
   ],
   "source": [
    "from konlpy.tag import Okt\n",
    "\n",
    "# Okt 객체 생성\n",
    "okt = Okt()\n",
    "\n",
    "def remove_bracket_text(title):\n",
    "    return re.sub(r'\\[.*?\\]', '', title)\n",
    "\n",
    "# '정치' 카테고리에 해당하는 모든 제목을 합친 후 명사 추출 작업 수행\n",
    "category_politics = issues[issues['category'] == '정치']\n",
    "category_politics['title'] = category_politics['title'].apply(remove_bracket_text)  # 대괄호 안 신문사 이름 삭제\n",
    "\n",
    "all_titles = ' '.join(category_politics['title'])\n",
    "tokens_const = okt.nouns(all_titles)\n",
    "\n",
    "const_cnt = {}\n",
    "max_words = 20\n",
    "\n",
    "for word in tokens_const:\n",
    "    const_cnt[word] = const_cnt.get(word, 0) + 1\n",
    "sorted_w = sorted(const_cnt.items(), key=lambda kv: kv[1])\n",
    "result = sorted_w[-max_words:]\n",
    "result.reverse()\n",
    "\n",
    "print(result)"
   ]
  }
 ],
 "metadata": {
  "kernelspec": {
   "display_name": "Python3.10",
   "language": "python",
   "name": "python3.10"
  },
  "language_info": {
   "codemirror_mode": {
    "name": "ipython",
    "version": 3
   },
   "file_extension": ".py",
   "mimetype": "text/x-python",
   "name": "python",
   "nbconvert_exporter": "python",
   "pygments_lexer": "ipython3",
   "version": "3.10.12"
  }
 },
 "nbformat": 4,
 "nbformat_minor": 5
}
