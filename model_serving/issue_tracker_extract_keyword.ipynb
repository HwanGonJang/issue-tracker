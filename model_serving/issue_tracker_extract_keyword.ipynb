{
 "cells": [
  {
   "cell_type": "markdown",
   "id": "bc8bf882-4d37-4029-bc41-210a2e18f512",
   "metadata": {},
   "source": [
    "## 이슈트래커 키워드 추출하기"
   ]
  },
  {
   "cell_type": "code",
   "execution_count": 1,
   "id": "002b1e74-06ba-42a2-b8cc-c7668ccec4c3",
   "metadata": {},
   "outputs": [],
   "source": [
    "import os\n",
    "from dotenv import load_dotenv\n",
    "\n",
    "load_dotenv()\n",
    "project_id = os.environ.get('GOOGLE_CLOUD_PROJECT_ID')"
   ]
  },
  {
   "cell_type": "code",
   "execution_count": 2,
   "id": "dba1297d-963f-4a65-9d2c-2be5e996a862",
   "metadata": {},
   "outputs": [
    {
     "name": "stderr",
     "output_type": "stream",
     "text": [
      "23/08/12 12:18:04 WARN Utils: Your hostname, HwangonJang-MacBookPro.local resolves to a loopback address: 127.0.0.1; using 172.30.1.29 instead (on interface en0)\n",
      "23/08/12 12:18:04 WARN Utils: Set SPARK_LOCAL_IP if you need to bind to another address\n",
      "23/08/12 12:18:05 WARN NativeCodeLoader: Unable to load native-hadoop library for your platform... using builtin-java classes where applicable\n",
      "Setting default log level to \"WARN\".\n",
      "To adjust logging level use sc.setLogLevel(newLevel). For SparkR, use setLogLevel(newLevel).\n"
     ]
    }
   ],
   "source": [
    "# 스파크 설정\n",
    "from pyspark.sql import SparkSession\n",
    "from pyspark.sql.functions import to_timestamp, udf\n",
    "\n",
    "spark = SparkSession.builder\\\n",
    "  .appName('issue-tracker')\\\n",
    "  .config('spark.jars', '../spark-3.3-bigquery-0.32.0.jar')\\\n",
    "  .getOrCreate()"
   ]
  },
  {
   "cell_type": "code",
   "execution_count": 3,
   "id": "977763f2-8b03-4ac2-a23f-db714e332b89",
   "metadata": {},
   "outputs": [
    {
     "data": {
      "text/plain": [
       "<function __main__.datetime_to_string_minus(min)>"
      ]
     },
     "execution_count": 3,
     "metadata": {},
     "output_type": "execute_result"
    }
   ],
   "source": [
    "# timestamp udf 설정\n",
    "from datetime import datetime, timedelta\n",
    "\n",
    "@udf('string')\n",
    "def datetime_to_string(dt):\n",
    "  dt -= timedelta(hours=9)\n",
    "  return dt.strftime('%Y-%m-%d %H:%M:%S')\n",
    "\n",
    "@udf('string')\n",
    "def datetime_to_string_minus(min):\n",
    "  dt = datetime.now()\n",
    "  dt -= timedelta(minutes=min)\n",
    "  return dt.strftime('%Y-%m-%d %H:%M:%S')\n",
    "\n",
    "spark.udf.register(\"datetime_to_string\", datetime_to_string)\n",
    "spark.udf.register(\"datetime_to_string_minus\", datetime_to_string_minus)"
   ]
  },
  {
   "cell_type": "code",
   "execution_count": 4,
   "id": "a7e1bec6-67b1-497d-b1f7-e23461714099",
   "metadata": {},
   "outputs": [],
   "source": [
    "# 데이터 조회\n",
    "df = spark.read \\\n",
    "  .format('bigquery') \\\n",
    "  .load(f'{project_id}.news.news')\n",
    "\n",
    "df.createOrReplaceTempView(\"news\")"
   ]
  },
  {
   "cell_type": "code",
   "execution_count": 5,
   "id": "21dc4371-77c1-4150-9e00-55e45761492f",
   "metadata": {},
   "outputs": [],
   "source": [
    "# 시간 truncate by 10 minutes\n",
    "def truncate_seconds(dt, interval_minutes):\n",
    "    truncated_minutes = int(dt.minute / interval_minutes) * interval_minutes\n",
    "    return dt.replace(minute=truncated_minutes, second=0, microsecond=0)\n",
    "\n",
    "interval_minutes = 10  # 잘라낼 분 단위"
   ]
  },
  {
   "cell_type": "code",
   "execution_count": 6,
   "id": "0fa929de-8352-4987-8b98-d90d3f17d624",
   "metadata": {},
   "outputs": [],
   "source": [
    "# 하루 동안의 뉴스 수집\n",
    "query = \"\"\"\n",
    "SELECT\n",
    "    id,\n",
    "    title,\n",
    "    to_timestamp(datetime_to_string(article_written_at)) as article_written_at,\n",
    "    to_timestamp(datetime_to_string(scraped_at)) as scraped_at,\n",
    "    category\n",
    "FROM\n",
    "    news\n",
    "WHERE\n",
    "    to_timestamp(datetime_to_string(article_written_at)) >= to_timestamp(datetime_to_string_minus(60 * 24))\n",
    "    AND to_timestamp(datetime_to_string(article_written_at)) < to_timestamp(datetime_to_string_minus(0))\n",
    "\"\"\"\n",
    "\n",
    "# 스파크 SQL query 실행\n",
    "issue_df = spark.sql(query)"
   ]
  },
  {
   "cell_type": "code",
   "execution_count": 7,
   "id": "be0dca1f-f9dc-4a91-b6a1-41e4614ea883",
   "metadata": {},
   "outputs": [
    {
     "name": "stderr",
     "output_type": "stream",
     "text": [
      "[Stage 0:>                                                          (0 + 1) / 1]\r"
     ]
    },
    {
     "name": "stdout",
     "output_type": "stream",
     "text": [
      "+----------+---------------------------------+-------------------+-------------------+--------+\n",
      "|        id|                            title| article_written_at|         scraped_at|category|\n",
      "+----------+---------------------------------+-------------------+-------------------+--------+\n",
      "|0005171937|  월가의 터줏대감 세 사람, 한 ...|2023-08-12 11:38:01|2023-08-12 11:40:00|    경제|\n",
      "|0014127827| 로마 콜로세움서 현피?…머스크 ...|2023-08-12 11:33:37|2023-08-12 11:40:00|    경제|\n",
      "|0005550108| ‘중국에 투자하지마’…바이든 엄...|2023-08-12 11:31:01|2023-08-12 11:40:00|    경제|\n",
      "|0004879252| 카트 끌다 사망했는데 '과태료 ...|2023-08-12 11:11:01|2023-08-12 11:20:00|    경제|\n",
      "|0000068654|   \"당근 3개로 피부톤을 바꿔?\"...|2023-08-12 11:01:01|2023-08-12 11:10:00|    과학|\n",
      "|0005550106|  \"음주도 아닌데 이상한데?\"…뇌...|2023-08-12 11:15:07|2023-08-12 11:20:00|    사회|\n",
      "|0002182724|  “복막염 증상” 긴급수술 받은 ...|2023-08-12 11:33:01|2023-08-12 11:40:00|    사회|\n",
      "|0003384409|   “농락과 학대 수준”…‘재력가 ...|2023-08-12 11:27:01|2023-08-12 11:30:00|    사회|\n",
      "|0002819030|새벽에 양손에 흉기 들고…파출소...|2023-08-12 11:21:07|2023-08-12 11:30:00|    사회|\n",
      "|0004225794| 택시서 내리자마자 '혼자' 쓰러...|2023-08-12 11:20:01|2023-08-12 11:30:00|    사회|\n",
      "|0003514573|   LH, 철근누락 알고도 발표때 ...|2023-08-12 01:41:21|2023-08-12 01:50:00|    경제|\n",
      "|0005056193|    ‘1억 이상’ 오른 단지도… 서...|2023-08-12 05:01:07|2023-08-12 05:10:00|    경제|\n",
      "|0005056188|   IEA \"세계 석유수요 사상최고...|2023-08-12 04:17:01|2023-08-12 04:20:00|    경제|\n",
      "|0005056189| 미 \"진공청소기로 하늘서 탄소 ...|2023-08-12 04:45:01|2023-08-12 04:50:00|    경제|\n",
      "|0004924563| 버핏은 장기투자만 할까? 그에 ...|2023-08-12 05:41:00|2023-08-12 05:50:00|    경제|\n",
      "|0014127653| 뉴욕증시, 생산자물가 반등 속 ...|2023-08-12 05:56:27|2023-08-12 06:00:00|    경제|\n",
      "|0000923964|     “‘국평 10억’은 이제 기본”...|2023-08-12 06:01:53|2023-08-12 06:10:00|    경제|\n",
      "|0000923956|    ‘내 집 마련’ 수요 늘자… 인...|2023-08-12 06:01:14|2023-08-12 06:10:00|    경제|\n",
      "|0000018675|물가 안정에 안도하는 미국증시…...|2023-08-12 06:01:01|2023-08-12 06:10:00|    경제|\n",
      "|0002182654| “부동산이 계약서 써주고 쉽게 ...|2023-08-12 06:00:01|2023-08-12 06:10:00|    경제|\n",
      "+----------+---------------------------------+-------------------+-------------------+--------+\n",
      "only showing top 20 rows\n",
      "\n"
     ]
    },
    {
     "name": "stderr",
     "output_type": "stream",
     "text": [
      "                                                                                \r"
     ]
    }
   ],
   "source": [
    "# lazy execution - 실제로 값이 필요할 때 계산\n",
    "issue_df.show()"
   ]
  },
  {
   "cell_type": "code",
   "execution_count": 8,
   "id": "3763c89d-504f-4fe7-afe5-8f2ada8899d0",
   "metadata": {},
   "outputs": [],
   "source": [
    "issue_df.createOrReplaceTempView(\"issue_single_day\")\n",
    "\n",
    "# 1시간 동안의 정치 카테고리 뉴스 수집\n",
    "query = \"\"\"\n",
    "SELECT\n",
    "    id,\n",
    "    title,\n",
    "    article_written_at,\n",
    "    scraped_at,\n",
    "    category\n",
    "FROM\n",
    "    issue_single_day\n",
    "WHERE\n",
    "    article_written_at >= to_timestamp(datetime_to_string_minus(60))\n",
    "    AND article_written_at < to_timestamp(datetime_to_string_minus(0))\n",
    "    AND category == '정치'\n",
    "\"\"\"\n",
    "\n",
    "# 스파크 SQL query 실행\n",
    "issue_hour_df = spark.sql(query)"
   ]
  },
  {
   "cell_type": "code",
   "execution_count": 9,
   "id": "ef90ec40-ad09-4c36-9b37-7ad1761c20bb",
   "metadata": {},
   "outputs": [
    {
     "name": "stderr",
     "output_type": "stream",
     "text": [
      "[Stage 1:>                                                          (0 + 1) / 1]\r"
     ]
    },
    {
     "name": "stdout",
     "output_type": "stream",
     "text": [
      "+----------+--------------------------------+-------------------+-------------------+--------+\n",
      "|        id|                           title| article_written_at|         scraped_at|category|\n",
      "+----------+--------------------------------+-------------------+-------------------+--------+\n",
      "|0003781298|이재명 ‘안면인식장애’ 진술에 ...|2023-08-12 11:52:01|2023-08-12 12:00:00|    정치|\n",
      "|0003384412| 김현숙 ‘잼버리’ 책임론 주목…...|2023-08-12 11:43:01|2023-08-12 11:50:00|    정치|\n",
      "|0004879254|     'D.P.' 정주행한 이재명…'...|2023-08-12 11:41:01|2023-08-12 11:50:00|    정치|\n",
      "+----------+--------------------------------+-------------------+-------------------+--------+\n",
      "\n"
     ]
    },
    {
     "name": "stderr",
     "output_type": "stream",
     "text": [
      "                                                                                \r"
     ]
    }
   ],
   "source": [
    "issue_hour_df.show()"
   ]
  },
  {
   "cell_type": "code",
   "execution_count": 15,
   "id": "8c718695-5eb6-4f4e-ba1c-610d07f312bd",
   "metadata": {},
   "outputs": [
    {
     "name": "stderr",
     "output_type": "stream",
     "text": [
      "                                                                                \r"
     ]
    }
   ],
   "source": [
    "# 데이터 전처리\n",
    "import pandas as pd\n",
    "\n",
    "pd_issue_df = issue_df.select('title', 'category').toPandas()\n",
    "pd_issue_hour_df = issue_hour_df.select('title', 'category').toPandas()\n",
    "\n",
    "issues = pd_issue_df.copy()\n",
    "for _ in range(2):\n",
    "    issues = pd.concat([issues, pd_issue_hour_df], ignore_index=True)"
   ]
  },
  {
   "cell_type": "code",
   "execution_count": 16,
   "id": "34cdb91b-6f11-4802-8058-bcc81e284c25",
   "metadata": {},
   "outputs": [
    {
     "data": {
      "text/html": [
       "<div>\n",
       "<style scoped>\n",
       "    .dataframe tbody tr th:only-of-type {\n",
       "        vertical-align: middle;\n",
       "    }\n",
       "\n",
       "    .dataframe tbody tr th {\n",
       "        vertical-align: top;\n",
       "    }\n",
       "\n",
       "    .dataframe thead th {\n",
       "        text-align: right;\n",
       "    }\n",
       "</style>\n",
       "<table border=\"1\" class=\"dataframe\">\n",
       "  <thead>\n",
       "    <tr style=\"text-align: right;\">\n",
       "      <th></th>\n",
       "      <th>title</th>\n",
       "      <th>category</th>\n",
       "    </tr>\n",
       "  </thead>\n",
       "  <tbody>\n",
       "    <tr>\n",
       "      <th>0</th>\n",
       "      <td>월가의 터줏대감 세 사람, 한 명이 감쪽같이 사라졌다...이유는 놀랍게도 [흥부전]</td>\n",
       "      <td>경제</td>\n",
       "    </tr>\n",
       "    <tr>\n",
       "      <th>1</th>\n",
       "      <td>로마 콜로세움서 현피?…머스크 \"伊와 논의\" 저커버그 \"합의 아냐\"(종합)</td>\n",
       "      <td>경제</td>\n",
       "    </tr>\n",
       "    <tr>\n",
       "      <th>2</th>\n",
       "      <td>‘중국에 투자하지마’…바이든 엄포에 난감해진 자본시장</td>\n",
       "      <td>경제</td>\n",
       "    </tr>\n",
       "    <tr>\n",
       "      <th>3</th>\n",
       "      <td>카트 끌다 사망했는데 '과태료 내면 그만'…불통의 코스트코 [박동휘의 컨슈머 리포트]</td>\n",
       "      <td>경제</td>\n",
       "    </tr>\n",
       "    <tr>\n",
       "      <th>4</th>\n",
       "      <td>\"당근 3개로 피부톤을 바꿔?\"...난리난 '태닝법'의 진짜 효과는?</td>\n",
       "      <td>과학</td>\n",
       "    </tr>\n",
       "  </tbody>\n",
       "</table>\n",
       "</div>"
      ],
      "text/plain": [
       "                                             title category\n",
       "0   월가의 터줏대감 세 사람, 한 명이 감쪽같이 사라졌다...이유는 놀랍게도 [흥부전]       경제\n",
       "1        로마 콜로세움서 현피?…머스크 \"伊와 논의\" 저커버그 \"합의 아냐\"(종합)       경제\n",
       "2                    ‘중국에 투자하지마’…바이든 엄포에 난감해진 자본시장       경제\n",
       "3  카트 끌다 사망했는데 '과태료 내면 그만'…불통의 코스트코 [박동휘의 컨슈머 리포트]       경제\n",
       "4           \"당근 3개로 피부톤을 바꿔?\"...난리난 '태닝법'의 진짜 효과는?       과학"
      ]
     },
     "execution_count": 16,
     "metadata": {},
     "output_type": "execute_result"
    }
   ],
   "source": [
    "issues.head(5)"
   ]
  },
  {
   "cell_type": "code",
   "execution_count": 17,
   "id": "4b577613-4e48-494e-be34-59d2ffff6076",
   "metadata": {},
   "outputs": [
    {
     "name": "stdout",
     "output_type": "stream",
     "text": [
      "[('수사', 15), ('잼버리', 14), ('책임', 12), ('이재명', 12), ('사건', 10), ('채', 10), ('해병대', 10), ('신혼부부', 9), ('청약', 9), ('대출', 9), ('론', 8), ('정부', 8), ('단장', 8), ('국민', 7), ('수근', 7), ('상병', 7), ('민주당', 7), ('힘', 6), ('김현숙', 6), ('기준', 6)]\n"
     ]
    },
    {
     "name": "stderr",
     "output_type": "stream",
     "text": [
      "/var/folders/6c/_n3059wn75j1nxgw4xdk_yr40000gn/T/ipykernel_64693/2156817998.py:12: SettingWithCopyWarning: \n",
      "A value is trying to be set on a copy of a slice from a DataFrame.\n",
      "Try using .loc[row_indexer,col_indexer] = value instead\n",
      "\n",
      "See the caveats in the documentation: https://pandas.pydata.org/pandas-docs/stable/user_guide/indexing.html#returning-a-view-versus-a-copy\n",
      "  category_politics['title'] = category_politics['title'].apply(remove_bracket_text)  # 대괄호 안 신문사 이름 삭제\n"
     ]
    }
   ],
   "source": [
    "from konlpy.tag import Okt\n",
    "import re\n",
    "\n",
    "# Okt 객체 생성\n",
    "okt = Okt()\n",
    "\n",
    "def remove_bracket_text(title):\n",
    "    return re.sub(r'\\[.*?\\]', '', title)\n",
    "\n",
    "# '정치' 카테고리에 해당하는 모든 제목을 합친 후 명사 추출 작업 수행\n",
    "category_politics = issues[issues['category'] == '정치']\n",
    "category_politics['title'] = category_politics['title'].apply(remove_bracket_text)  # 대괄호 안 신문사 이름 삭제\n",
    "\n",
    "all_titles = ' '.join(category_politics['title'])\n",
    "tokens_const = okt.nouns(all_titles)\n",
    "\n",
    "const_cnt = {}\n",
    "max_words = 20\n",
    "for word in tokens_const:\n",
    "    const_cnt[word] = const_cnt.get(word, 0) + 1\n",
    "sorted_w = sorted(const_cnt.items(), key=lambda kv: kv[1])\n",
    "result = sorted_w[-max_words:]\n",
    "result.reverse()\n",
    "\n",
    "print(result)"
   ]
  }
 ],
 "metadata": {
  "kernelspec": {
   "display_name": "Python3.10",
   "language": "python",
   "name": "python3.10"
  },
  "language_info": {
   "codemirror_mode": {
    "name": "ipython",
    "version": 3
   },
   "file_extension": ".py",
   "mimetype": "text/x-python",
   "name": "python",
   "nbconvert_exporter": "python",
   "pygments_lexer": "ipython3",
   "version": "3.10.12"
  }
 },
 "nbformat": 4,
 "nbformat_minor": 5
}
